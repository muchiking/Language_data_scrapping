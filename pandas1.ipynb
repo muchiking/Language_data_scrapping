{
 "cells": [
  {
   "cell_type": "code",
   "execution_count": 1,
   "metadata": {},
   "outputs": [
    {
     "name": "stdout",
     "output_type": "stream",
     "text": [
      "      Book  Text\n",
      "0  Genesis  text\n"
     ]
    }
   ],
   "source": [
    "import pandas as pd\n",
    "\n",
    "# my_dict = {'book chapter': \"Text\"}\n",
    "# Create a DataFrame\n",
    "data = {\n",
    "  \"Book\": \"Genesis\",\n",
    "  \"Text\": \"text\"\n",
    "}\n",
    "# df = pd.DataFrame(my_dict)\n",
    "# df\n",
    "df = pd.DataFrame(data , index=[0])\n",
    "\n",
    "print(df) \n",
    "\n",
    "# Write the DataFrame to an Excel file\n",
    "df.to_excel('gen.xlsx')"
   ]
  },
  {
   "cell_type": "code",
   "execution_count": 5,
   "metadata": {},
   "outputs": [
    {
     "name": "stderr",
     "output_type": "stream",
     "text": [
      "/tmp/ipykernel_39452/3353319948.py:8: DeprecationWarning: executable_path has been deprecated, please pass in a Service object\n",
      "  driver = webdriver.Chrome(os.getenv(\"chromedriver\"))\n"
     ]
    },
    {
     "name": "stdout",
     "output_type": "stream",
     "text": [
      "<module 'pandas' from '/home/icurus/.local/lib/python3.10/site-packages/pandas/__init__.py'>\n"
     ]
    },
    {
     "data": {
      "text/html": [
       "<div>\n",
       "<style scoped>\n",
       "    .dataframe tbody tr th:only-of-type {\n",
       "        vertical-align: middle;\n",
       "    }\n",
       "\n",
       "    .dataframe tbody tr th {\n",
       "        vertical-align: top;\n",
       "    }\n",
       "\n",
       "    .dataframe thead th {\n",
       "        text-align: right;\n",
       "    }\n",
       "</style>\n",
       "<table border=\"1\" class=\"dataframe\">\n",
       "  <thead>\n",
       "    <tr style=\"text-align: right;\">\n",
       "      <th></th>\n",
       "      <th>Book</th>\n",
       "      <th>Text</th>\n",
       "    </tr>\n",
       "  </thead>\n",
       "  <tbody>\n",
       "    <tr>\n",
       "      <th>0</th>\n",
       "      <td>Genesis1</td>\n",
       "      <td>KĨAMBĨRĨRIA 1\\n1O KĨAMBĨRĨRIA-RĨ, Ngai aatũmir...</td>\n",
       "    </tr>\n",
       "  </tbody>\n",
       "</table>\n",
       "</div>"
      ],
      "text/plain": [
       "       Book                                               Text\n",
       "0  Genesis1  KĨAMBĨRĨRIA 1\\n1O KĨAMBĨRĨRIA-RĨ, Ngai aatũmir..."
      ]
     },
     "execution_count": 5,
     "metadata": {},
     "output_type": "execute_result"
    }
   ],
   "source": [
    "from selenium import webdriver\n",
    "from selenium.webdriver.common.by import By\n",
    "import os\n",
    "from dotenv import load_dotenv\n",
    "import pandas as pd\n",
    "load_dotenv()\n",
    "\n",
    "driver = webdriver.Chrome(os.getenv(\"chromedriver\"))\n",
    "# Navigate to a website\n",
    "driver.get(\"https://www.bible.com/bible/2926/GEN.1.ogkbible\")\n",
    "\n",
    "# Get an element on the page\n",
    "element = driver.find_element(By.CLASS_NAME, \"reader\").text\n",
    "excel_data_df = pd.read_excel('gen.xlsx')\n",
    "# Extract the text from the element\n",
    "# text = element.get_text()\n",
    "print(pd)\n",
    "num=1\n",
    "name=\"Genesis\"+str(num)\n",
    "data = {\n",
    "  \"Book\": name,\n",
    "  \"Text\": element\n",
    "}\n",
    "df = pd.DataFrame(data , index=[0])\n",
    "df"
   ]
  }
 ],
 "metadata": {
  "kernelspec": {
   "display_name": "Python 3.10.8 64-bit",
   "language": "python",
   "name": "python3"
  },
  "language_info": {
   "codemirror_mode": {
    "name": "ipython",
    "version": 3
   },
   "file_extension": ".py",
   "mimetype": "text/x-python",
   "name": "python",
   "nbconvert_exporter": "python",
   "pygments_lexer": "ipython3",
   "version": "3.10.8"
  },
  "orig_nbformat": 4,
  "vscode": {
   "interpreter": {
    "hash": "916dbcbb3f70747c44a77c7bcd40155683ae19c65e1c03b4aa3499c5328201f1"
   }
  }
 },
 "nbformat": 4,
 "nbformat_minor": 2
}
